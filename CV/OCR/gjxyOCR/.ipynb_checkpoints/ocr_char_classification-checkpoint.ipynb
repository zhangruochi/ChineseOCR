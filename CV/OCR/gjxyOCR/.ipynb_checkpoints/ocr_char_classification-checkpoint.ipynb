{
 "cells": [
  {
   "cell_type": "code",
   "execution_count": 25,
   "metadata": {},
   "outputs": [],
   "source": [
    "import torch\n",
    "import torch.nn as nn\n",
    "import torch.nn.functional as F\n",
    "from torch.utils.data import Dataset, DataLoader\n",
    "from torchsummary import summary\n",
    "from torchvision import transforms as T\n",
    "import torchvision\n",
    "from tqdm import tqdm\n",
    "import random\n",
    "import numpy as np\n",
    "import pickle as pkl\n",
    "from collections import OrderedDict\n",
    "\n",
    "from PIL import Image, ImageDraw, ImageFont\n",
    "\n",
    "from matplotlib import pyplot as plt\n",
    "import time\n",
    "import os\n",
    "from pathlib import Path"
   ]
  },
  {
   "cell_type": "code",
   "execution_count": 2,
   "metadata": {},
   "outputs": [],
   "source": [
    "\n",
    "test_image_path = Path(\"characters_cuts\")"
   ]
  },
  {
   "cell_type": "markdown",
   "metadata": {},
   "source": [
    "## Helpers"
   ]
  },
  {
   "cell_type": "code",
   "execution_count": 3,
   "metadata": {},
   "outputs": [],
   "source": [
    "def show_batch(x,y,shape = None):\n",
    "    \"\"\"\n",
    "    input: \n",
    "        x(Tensor[num_images, rows, columns]): images tensor\n",
    "        y(array): labels\n",
    "        shape(tuple): (rows,col) \n",
    "    output:\n",
    "        grid of smaple images\n",
    "    \"\"\"\n",
    "\n",
    "    if not shape:\n",
    "        shape = (int(x.shape[0]**0.5), int(x.shape[0]**0.5))\n",
    "\n",
    "    fig, axs = plt.subplots(nrows= shape[0], ncols=shape[1], figsize = (12,8))\n",
    "    index = 0\n",
    "    for row in axs:\n",
    "        for ax in row:\n",
    "            ax.imshow(x[index])\n",
    "            ax.set_xlabel(y[index], )\n",
    "            index+=1\n",
    "\n",
    "    # plt.subplots_adjust(wspace = 0.2, hspace = 0.5) \n",
    "    fig.tight_layout()\n",
    "    plt.show()"
   ]
  },
  {
   "cell_type": "code",
   "execution_count": 4,
   "metadata": {},
   "outputs": [],
   "source": [
    "chars = set()\n",
    "for p in test_image_path.glob(\"*.png\"):\n",
    "    chars.add(p.name.split(\".\")[0])\n",
    "chars = list(chars)"
   ]
  },
  {
   "cell_type": "code",
   "execution_count": 5,
   "metadata": {},
   "outputs": [],
   "source": [
    "font_paths = [\"ttf/Fangsong.ttf\", \"ttf/Kaiti.ttf\"]"
   ]
  },
  {
   "cell_type": "markdown",
   "metadata": {},
   "source": [
    "## Hyper-parameters"
   ]
  },
  {
   "cell_type": "code",
   "execution_count": 6,
   "metadata": {},
   "outputs": [],
   "source": [
    "BATCH_SIZE = 16\n",
    "NUM_EPOCHS = 10\n",
    "LEARNING_RATE = 0.0001\n",
    "RANDOM_SEED = 42\n",
    "\n",
    "DEVICE = torch.device(\"cuda: 0\" if torch.cuda.is_available() else \"cpu\")"
   ]
  },
  {
   "cell_type": "markdown",
   "metadata": {},
   "source": [
    "## Datasets"
   ]
  },
  {
   "cell_type": "code",
   "execution_count": 7,
   "metadata": {},
   "outputs": [],
   "source": [
    "class CaptchaDataset(Dataset):\n",
    "    \n",
    "    def __init__(self, chars, font_paths, train, transforms, multiple = 50):\n",
    "        super(CaptchaDataset, self).__init__()\n",
    "        \n",
    "        self.chars = chars\n",
    "        self.char2index = {char:index for char, index in zip(self.chars, range(len(self.chars)))}\n",
    "        self.index2char = {index:char for char, index in zip(self.chars, range(len(self.chars)))}\n",
    "        \n",
    "        self.multiple = multiple\n",
    "        \n",
    "        self.all_words = self.chars * multiple\n",
    "        random.shuffle(self.all_words)        \n",
    "        \n",
    "        self.bgColor = (255, 255, 255)\n",
    "        self.fontColor = (0, 0, 0)\n",
    "        self.image_size = (42,42)\n",
    "        self.font_size = 28\n",
    "        \n",
    "        self.font_paths = font_paths\n",
    "        self.train = train\n",
    "        self.transforms = transforms\n",
    "        \n",
    "\n",
    "    def __len__(self):\n",
    "        return len(self.all_words)\n",
    "    \n",
    "    def drawText(self, pos, txt,font,image, fill):\n",
    "        draw = ImageDraw.Draw(image)\n",
    "        draw.text(pos, txt, font=font, fill= fill)\n",
    "        del draw\n",
    "    \n",
    "    def __getitem__(self, index):\n",
    "        word = self.all_words[index]\n",
    "        font_path = random.choice(self.font_paths)\n",
    "        img =  Image.new('RGB', self.image_size, self.bgColor)\n",
    "        font = ImageFont.truetype(font_path, self.font_size)\n",
    "        \n",
    "        self.drawText((5,3), word, font, img, self.fontColor)\n",
    "\n",
    "        if self.transforms:\n",
    "            img = self.transforms(img)\n",
    "        else:\n",
    "            img = T.functional.to_tensor(img)\n",
    "            \n",
    "        target = torch.tensor(self.char2index[word])\n",
    "        \n",
    "        return img, target\n",
    "\n",
    "class TestDataset(Dataset):\n",
    "    def __init__(self,chars, test_image_root, transfroms = None):\n",
    "        \n",
    "        self.chars = chars\n",
    "        self.char2index = {char:index for char, index in zip(self.chars, range(len(self.chars)))}\n",
    "        self.index2char = {index:char for char, index in zip(self.chars, range(len(self.chars)))}\n",
    "        \n",
    "        self.test_images = list(test_image_root.glob(\"*.png\"))\n",
    "        self.transforms = transfroms\n",
    "        \n",
    "    def __len__(self):\n",
    "        return len(self.test_images)\n",
    "    \n",
    "    def __getitem__(self, idx):\n",
    "        image = Image.open(self.test_images[idx])\n",
    "        name = self.test_images[idx].name.split(\".\")[0]\n",
    "        \n",
    "        if self.transforms:\n",
    "            image = self.transforms(image)\n",
    "        \n",
    "        target = self.char2index[name]\n",
    "        return image,target"
   ]
  },
  {
   "cell_type": "code",
   "execution_count": 15,
   "metadata": {},
   "outputs": [],
   "source": [
    "train_transforms = T.Compose([\n",
    "                        T.RandomRotation(30,fill = (255,255,255)),\n",
    "                        T.CenterCrop(size = 32),  \n",
    "                        T.ColorJitter(contrast = 0.4, saturation = 0.4),\n",
    "                        T.RandomGrayscale(p=1.0),\n",
    "                        T.ToTensor(),\n",
    "                        T.Normalize(mean = [0.485, 0.456, 0.406], std = [0.229, 0.224, 0.225]),      \n",
    "                    ])\n",
    "\n",
    "test_data_transform = T.Compose([\n",
    "    T.Resize(32),\n",
    "    T.RandomGrayscale(p=1.0),\n",
    "    T.ToTensor(),\n",
    "    T.Normalize([0.485, 0.456, 0.406], [0.229, 0.224, 0.225])\n",
    "])\n",
    "\n",
    "\n",
    "train_dataset = CaptchaDataset(chars, font_paths, train = True, transforms = train_transforms,multiple= 30)\n",
    "val_dataset = CaptchaDataset(chars, font_paths, train = True, transforms = train_transforms,multiple=5)\n",
    "test_dataset = TestDataset(chars, test_image_path,test_data_transform)\n",
    "\n",
    "\n",
    "train_dataloader = DataLoader(dataset = train_dataset,\n",
    "                             batch_size=BATCH_SIZE,\n",
    "                             num_workers=4,\n",
    "                             shuffle=True)\n",
    "\n",
    "val_dataloader = DataLoader(dataset = val_dataset,\n",
    "                             batch_size=BATCH_SIZE,\n",
    "                             num_workers=4,\n",
    "                             shuffle=False)\n",
    "\n",
    "test_dataloader = torch.utils.data.DataLoader(test_dataset,\n",
    "                                                  batch_size = BATCH_SIZE, \n",
    "                                                  num_workers=4,\n",
    "                                                  shuffle = False)\n",
    "\n",
    "dataset_loader = {\"train\": train_dataloader, \"val\": val_dataloader, \"test\": test_dataloader}"
   ]
  },
  {
   "cell_type": "code",
   "execution_count": 27,
   "metadata": {},
   "outputs": [],
   "source": [
    "with open(\"../models/gj_model_checkpoint/cache.pkl\", \"wb\") as f:\n",
    "    pkl.dump({\"index2char\": train_dataset.index2char},f)"
   ]
  },
  {
   "cell_type": "code",
   "execution_count": 28,
   "metadata": {},
   "outputs": [],
   "source": [
    "image, target = next(iter(train_dataloader))"
   ]
  },
  {
   "cell_type": "code",
   "execution_count": 29,
   "metadata": {},
   "outputs": [
    {
     "name": "stderr",
     "output_type": "stream",
     "text": [
      "Clipping input data to the valid range for imshow with RGB data ([0..1] for floats or [0..255] for integers).\n",
      "Clipping input data to the valid range for imshow with RGB data ([0..1] for floats or [0..255] for integers).\n",
      "Clipping input data to the valid range for imshow with RGB data ([0..1] for floats or [0..255] for integers).\n",
      "Clipping input data to the valid range for imshow with RGB data ([0..1] for floats or [0..255] for integers).\n",
      "Clipping input data to the valid range for imshow with RGB data ([0..1] for floats or [0..255] for integers).\n",
      "Clipping input data to the valid range for imshow with RGB data ([0..1] for floats or [0..255] for integers).\n",
      "Clipping input data to the valid range for imshow with RGB data ([0..1] for floats or [0..255] for integers).\n",
      "Clipping input data to the valid range for imshow with RGB data ([0..1] for floats or [0..255] for integers).\n",
      "Clipping input data to the valid range for imshow with RGB data ([0..1] for floats or [0..255] for integers).\n",
      "Clipping input data to the valid range for imshow with RGB data ([0..1] for floats or [0..255] for integers).\n",
      "Clipping input data to the valid range for imshow with RGB data ([0..1] for floats or [0..255] for integers).\n",
      "Clipping input data to the valid range for imshow with RGB data ([0..1] for floats or [0..255] for integers).\n",
      "Clipping input data to the valid range for imshow with RGB data ([0..1] for floats or [0..255] for integers).\n",
      "Clipping input data to the valid range for imshow with RGB data ([0..1] for floats or [0..255] for integers).\n",
      "Clipping input data to the valid range for imshow with RGB data ([0..1] for floats or [0..255] for integers).\n",
      "Clipping input data to the valid range for imshow with RGB data ([0..1] for floats or [0..255] for integers).\n"
     ]
    },
    {
     "data": {
      "image/png": "[encoded data removed]",
      "text/plain": [
       "<Figure size 864x576 with 16 Axes>"
      ]
     },
     "metadata": {
      "needs_background": "light"
     },
     "output_type": "display_data"
    }
   ],
   "source": [
    "show_batch(image.permute([0,2,3,1]), target.numpy(), (4,4))"
   ]
  },
  {
   "cell_type": "code",
   "execution_count": 30,
   "metadata": {},
   "outputs": [
    {
     "data": {
      "text/plain": [
       "'橙拉剪窗面仪船鞋绿蛋帽象听企拍毛'"
      ]
     },
     "execution_count": 30,
     "metadata": {},
     "output_type": "execute_result"
    }
   ],
   "source": [
    "\"\".join([train_dataset.index2char[item] for item in target.numpy()])[:16]"
   ]
  },
  {
   "cell_type": "code",
   "execution_count": 31,
   "metadata": {},
   "outputs": [],
   "source": [
    "image, target = next(iter(test_dataloader))"
   ]
  },
  {
   "cell_type": "code",
   "execution_count": 32,
   "metadata": {},
   "outputs": [
    {
     "name": "stderr",
     "output_type": "stream",
     "text": [
      "Clipping input data to the valid range for imshow with RGB data ([0..1] for floats or [0..255] for integers).\n",
      "Clipping input data to the valid range for imshow with RGB data ([0..1] for floats or [0..255] for integers).\n",
      "Clipping input data to the valid range for imshow with RGB data ([0..1] for floats or [0..255] for integers).\n",
      "Clipping input data to the valid range for imshow with RGB data ([0..1] for floats or [0..255] for integers).\n",
      "Clipping input data to the valid range for imshow with RGB data ([0..1] for floats or [0..255] for integers).\n",
      "Clipping input data to the valid range for imshow with RGB data ([0..1] for floats or [0..255] for integers).\n",
      "Clipping input data to the valid range for imshow with RGB data ([0..1] for floats or [0..255] for integers).\n",
      "Clipping input data to the valid range for imshow with RGB data ([0..1] for floats or [0..255] for integers).\n",
      "Clipping input data to the valid range for imshow with RGB data ([0..1] for floats or [0..255] for integers).\n",
      "Clipping input data to the valid range for imshow with RGB data ([0..1] for floats or [0..255] for integers).\n",
      "Clipping input data to the valid range for imshow with RGB data ([0..1] for floats or [0..255] for integers).\n",
      "Clipping input data to the valid range for imshow with RGB data ([0..1] for floats or [0..255] for integers).\n",
      "Clipping input data to the valid range for imshow with RGB data ([0..1] for floats or [0..255] for integers).\n",
      "Clipping input data to the valid range for imshow with RGB data ([0..1] for floats or [0..255] for integers).\n",
      "Clipping input data to the valid range for imshow with RGB data ([0..1] for floats or [0..255] for integers).\n",
      "Clipping input data to the valid range for imshow with RGB data ([0..1] for floats or [0..255] for integers).\n"
     ]
    },
    {
     "data": {
      "image/png": "[encoded data removed]",
      "text/plain": [
       "<Figure size 864x576 with 16 Axes>"
      ]
     },
     "metadata": {
      "needs_background": "light"
     },
     "output_type": "display_data"
    }
   ],
   "source": [
    "show_batch(image.permute([0,2,3,1]), target.numpy(), (4,4))"
   ]
  },
  {
   "cell_type": "code",
   "execution_count": 33,
   "metadata": {},
   "outputs": [
    {
     "data": {
      "text/plain": [
       "'桥偶书锅生表卜台星盘葡钱铲象公邮'"
      ]
     },
     "execution_count": 33,
     "metadata": {},
     "output_type": "execute_result"
    }
   ],
   "source": [
    "\"\".join([test_dataset.index2char[item] for item in target.numpy()])[:16]"
   ]
  },
  {
   "cell_type": "markdown",
   "metadata": {},
   "source": [
    "## Model"
   ]
  },
  {
   "cell_type": "code",
   "execution_count": 34,
   "metadata": {},
   "outputs": [],
   "source": [
    "class Model(nn.Module):\n",
    "    def __init__(self, n_classes):\n",
    "        super(Model, self).__init__()\n",
    "        \n",
    "        self.head = torch.nn.Sequential(\n",
    "            torch.nn.Conv2d(3,64,kernel_size=(1,1),stride=(1,1),padding=(0,0),bias=False),\n",
    "            torch.nn.BatchNorm2d(64),\n",
    "            torch.nn.ReLU(inplace=True)\n",
    "        )\n",
    "        \n",
    "        base_model = torchvision.models.resnet34(pretrained=True)\n",
    "\n",
    "        base_model_layers = list(base_model.children()) \n",
    "        self.body = torch.nn.Sequential(*base_model_layers[4:9])\n",
    "        \n",
    "        \n",
    "        self.fc = torch.nn.Linear(in_features=512, out_features=n_classes, bias = True)\n",
    "    \n",
    "    \n",
    "    def forward(self, x):\n",
    "        x = self.head(x)\n",
    "        x = self.body(x)\n",
    "        x = x.view(-1, x.shape[1])\n",
    "        logits = self.fc(x)\n",
    "        probas = F.softmax(logits, dim = 1)\n",
    "        return logits,probas\n",
    "    \n",
    "    \n",
    "class CharClassificationModel(nn.Module):\n",
    "    def __init__(self, n_classes):\n",
    "        super(CharClassificationModel, self).__init__()\n",
    "\n",
    "\n",
    "        self.upstream_model = Model(n_classes = 3755)\n",
    "        checkpoint = torch.load(\"../models/ocr_pretrained_model_checkpoint/best_model.pt\")\n",
    "        self.upstream_model.load_state_dict(checkpoint[\"model_state_dict\"])\n",
    "        \n",
    "        \n",
    "        in_features = self.upstream_model.fc.in_features\n",
    "        self.upstream_model.fc = torch.nn.Linear(in_features=in_features, out_features=n_classes, bias = True)\n",
    "    \n",
    "    \n",
    "    def forward(self, x):\n",
    "        logits,probas = self.upstream_model(x)\n",
    "        return logits,probas"
   ]
  },
  {
   "cell_type": "code",
   "execution_count": 36,
   "metadata": {},
   "outputs": [],
   "source": [
    "model = CharClassificationModel(n_classes = len(chars))\n",
    "model = model.to(DEVICE)\n",
    "optimizer = torch.optim.Adam(model.parameters(), lr = LEARNING_RATE)\n",
    "scheduler = torch.optim.lr_scheduler.ReduceLROnPlateau(\n",
    "        optimizer,\n",
    "        patience=1,\n",
    "        threshold=0.01,\n",
    "        factor = 0.2,\n",
    "        verbose=True,\n",
    "        mode=\"max\")"
   ]
  },
  {
   "cell_type": "code",
   "execution_count": 19,
   "metadata": {},
   "outputs": [
    {
     "name": "stdout",
     "output_type": "stream",
     "text": [
      "----------------------------------------------------------------\n",
      "        Layer (type)               Output Shape         Param #\n",
      "================================================================\n",
      "            Conv2d-1         [-1, 64, 112, 112]           9,408\n",
      "       BatchNorm2d-2         [-1, 64, 112, 112]             128\n",
      "              ReLU-3         [-1, 64, 112, 112]               0\n",
      "         MaxPool2d-4           [-1, 64, 56, 56]               0\n",
      "            Conv2d-5           [-1, 64, 56, 56]          36,864\n",
      "       BatchNorm2d-6           [-1, 64, 56, 56]             128\n",
      "              ReLU-7           [-1, 64, 56, 56]               0\n",
      "            Conv2d-8           [-1, 64, 56, 56]          36,864\n",
      "       BatchNorm2d-9           [-1, 64, 56, 56]             128\n",
      "             ReLU-10           [-1, 64, 56, 56]               0\n",
      "       BasicBlock-11           [-1, 64, 56, 56]               0\n",
      "           Conv2d-12           [-1, 64, 56, 56]          36,864\n",
      "      BatchNorm2d-13           [-1, 64, 56, 56]             128\n",
      "             ReLU-14           [-1, 64, 56, 56]               0\n",
      "           Conv2d-15           [-1, 64, 56, 56]          36,864\n",
      "      BatchNorm2d-16           [-1, 64, 56, 56]             128\n",
      "             ReLU-17           [-1, 64, 56, 56]               0\n",
      "       BasicBlock-18           [-1, 64, 56, 56]               0\n",
      "           Conv2d-19           [-1, 64, 56, 56]          36,864\n",
      "      BatchNorm2d-20           [-1, 64, 56, 56]             128\n",
      "             ReLU-21           [-1, 64, 56, 56]               0\n",
      "           Conv2d-22           [-1, 64, 56, 56]          36,864\n",
      "      BatchNorm2d-23           [-1, 64, 56, 56]             128\n",
      "             ReLU-24           [-1, 64, 56, 56]               0\n",
      "       BasicBlock-25           [-1, 64, 56, 56]               0\n",
      "           Conv2d-26          [-1, 128, 28, 28]          73,728\n",
      "      BatchNorm2d-27          [-1, 128, 28, 28]             256\n",
      "             ReLU-28          [-1, 128, 28, 28]               0\n",
      "           Conv2d-29          [-1, 128, 28, 28]         147,456\n",
      "      BatchNorm2d-30          [-1, 128, 28, 28]             256\n",
      "           Conv2d-31          [-1, 128, 28, 28]           8,192\n",
      "      BatchNorm2d-32          [-1, 128, 28, 28]             256\n",
      "             ReLU-33          [-1, 128, 28, 28]               0\n",
      "       BasicBlock-34          [-1, 128, 28, 28]               0\n",
      "           Conv2d-35          [-1, 128, 28, 28]         147,456\n",
      "      BatchNorm2d-36          [-1, 128, 28, 28]             256\n",
      "             ReLU-37          [-1, 128, 28, 28]               0\n",
      "           Conv2d-38          [-1, 128, 28, 28]         147,456\n",
      "      BatchNorm2d-39          [-1, 128, 28, 28]             256\n",
      "             ReLU-40          [-1, 128, 28, 28]               0\n",
      "       BasicBlock-41          [-1, 128, 28, 28]               0\n",
      "           Conv2d-42          [-1, 128, 28, 28]         147,456\n",
      "      BatchNorm2d-43          [-1, 128, 28, 28]             256\n",
      "             ReLU-44          [-1, 128, 28, 28]               0\n",
      "           Conv2d-45          [-1, 128, 28, 28]         147,456\n",
      "      BatchNorm2d-46          [-1, 128, 28, 28]             256\n",
      "             ReLU-47          [-1, 128, 28, 28]               0\n",
      "       BasicBlock-48          [-1, 128, 28, 28]               0\n",
      "           Conv2d-49          [-1, 128, 28, 28]         147,456\n",
      "      BatchNorm2d-50          [-1, 128, 28, 28]             256\n",
      "             ReLU-51          [-1, 128, 28, 28]               0\n",
      "           Conv2d-52          [-1, 128, 28, 28]         147,456\n",
      "      BatchNorm2d-53          [-1, 128, 28, 28]             256\n",
      "             ReLU-54          [-1, 128, 28, 28]               0\n",
      "       BasicBlock-55          [-1, 128, 28, 28]               0\n",
      "           Conv2d-56          [-1, 256, 14, 14]         294,912\n",
      "      BatchNorm2d-57          [-1, 256, 14, 14]             512\n",
      "             ReLU-58          [-1, 256, 14, 14]               0\n",
      "           Conv2d-59          [-1, 256, 14, 14]         589,824\n",
      "      BatchNorm2d-60          [-1, 256, 14, 14]             512\n",
      "           Conv2d-61          [-1, 256, 14, 14]          32,768\n",
      "      BatchNorm2d-62          [-1, 256, 14, 14]             512\n",
      "             ReLU-63          [-1, 256, 14, 14]               0\n",
      "       BasicBlock-64          [-1, 256, 14, 14]               0\n",
      "           Conv2d-65          [-1, 256, 14, 14]         589,824\n",
      "      BatchNorm2d-66          [-1, 256, 14, 14]             512\n",
      "             ReLU-67          [-1, 256, 14, 14]               0\n",
      "           Conv2d-68          [-1, 256, 14, 14]         589,824\n",
      "      BatchNorm2d-69          [-1, 256, 14, 14]             512\n",
      "             ReLU-70          [-1, 256, 14, 14]               0\n",
      "       BasicBlock-71          [-1, 256, 14, 14]               0\n",
      "           Conv2d-72          [-1, 256, 14, 14]         589,824\n",
      "      BatchNorm2d-73          [-1, 256, 14, 14]             512\n",
      "             ReLU-74          [-1, 256, 14, 14]               0\n",
      "           Conv2d-75          [-1, 256, 14, 14]         589,824\n",
      "      BatchNorm2d-76          [-1, 256, 14, 14]             512\n",
      "             ReLU-77          [-1, 256, 14, 14]               0\n",
      "       BasicBlock-78          [-1, 256, 14, 14]               0\n",
      "           Conv2d-79          [-1, 256, 14, 14]         589,824\n",
      "      BatchNorm2d-80          [-1, 256, 14, 14]             512\n",
      "             ReLU-81          [-1, 256, 14, 14]               0\n",
      "           Conv2d-82          [-1, 256, 14, 14]         589,824\n",
      "      BatchNorm2d-83          [-1, 256, 14, 14]             512\n",
      "             ReLU-84          [-1, 256, 14, 14]               0\n",
      "       BasicBlock-85          [-1, 256, 14, 14]               0\n",
      "           Conv2d-86          [-1, 256, 14, 14]         589,824\n",
      "      BatchNorm2d-87          [-1, 256, 14, 14]             512\n",
      "             ReLU-88          [-1, 256, 14, 14]               0\n",
      "           Conv2d-89          [-1, 256, 14, 14]         589,824\n",
      "      BatchNorm2d-90          [-1, 256, 14, 14]             512\n",
      "             ReLU-91          [-1, 256, 14, 14]               0\n",
      "       BasicBlock-92          [-1, 256, 14, 14]               0\n",
      "           Conv2d-93          [-1, 256, 14, 14]         589,824\n",
      "      BatchNorm2d-94          [-1, 256, 14, 14]             512\n",
      "             ReLU-95          [-1, 256, 14, 14]               0\n",
      "           Conv2d-96          [-1, 256, 14, 14]         589,824\n",
      "      BatchNorm2d-97          [-1, 256, 14, 14]             512\n",
      "             ReLU-98          [-1, 256, 14, 14]               0\n",
      "       BasicBlock-99          [-1, 256, 14, 14]               0\n",
      "          Conv2d-100            [-1, 512, 7, 7]       1,179,648\n",
      "     BatchNorm2d-101            [-1, 512, 7, 7]           1,024\n",
      "            ReLU-102            [-1, 512, 7, 7]               0\n",
      "          Conv2d-103            [-1, 512, 7, 7]       2,359,296\n",
      "     BatchNorm2d-104            [-1, 512, 7, 7]           1,024\n",
      "          Conv2d-105            [-1, 512, 7, 7]         131,072\n",
      "     BatchNorm2d-106            [-1, 512, 7, 7]           1,024\n",
      "            ReLU-107            [-1, 512, 7, 7]               0\n",
      "      BasicBlock-108            [-1, 512, 7, 7]               0\n",
      "          Conv2d-109            [-1, 512, 7, 7]       2,359,296\n",
      "     BatchNorm2d-110            [-1, 512, 7, 7]           1,024\n",
      "            ReLU-111            [-1, 512, 7, 7]               0\n",
      "          Conv2d-112            [-1, 512, 7, 7]       2,359,296\n",
      "     BatchNorm2d-113            [-1, 512, 7, 7]           1,024\n",
      "            ReLU-114            [-1, 512, 7, 7]               0\n",
      "      BasicBlock-115            [-1, 512, 7, 7]               0\n",
      "          Conv2d-116            [-1, 512, 7, 7]       2,359,296\n",
      "     BatchNorm2d-117            [-1, 512, 7, 7]           1,024\n",
      "            ReLU-118            [-1, 512, 7, 7]               0\n",
      "          Conv2d-119            [-1, 512, 7, 7]       2,359,296\n",
      "     BatchNorm2d-120            [-1, 512, 7, 7]           1,024\n",
      "            ReLU-121            [-1, 512, 7, 7]               0\n",
      "      BasicBlock-122            [-1, 512, 7, 7]               0\n",
      "AdaptiveAvgPool2d-123            [-1, 512, 1, 1]               0\n",
      "          Linear-124                  [-1, 234]         120,042\n",
      "          ResNet-125                  [-1, 234]               0\n",
      "================================================================\n",
      "Total params: 21,404,714\n",
      "Trainable params: 21,404,714\n",
      "Non-trainable params: 0\n",
      "----------------------------------------------------------------\n",
      "Input size (MB): 0.57\n",
      "Forward/backward pass size (MB): 96.28\n",
      "Params size (MB): 81.65\n",
      "Estimated Total Size (MB): 178.51\n",
      "----------------------------------------------------------------\n"
     ]
    }
   ],
   "source": [
    "summary(model,(3,224,224))"
   ]
  },
  {
   "cell_type": "code",
   "execution_count": 16,
   "metadata": {},
   "outputs": [],
   "source": [
    "def compute_accuracy(model, data_loader, device):\n",
    "    model.eval()\n",
    "    correct_pred, num_examples = 0, 0\n",
    "    for i, (features, targets) in enumerate(data_loader):\n",
    "            \n",
    "        features = features.to(device)\n",
    "        targets = targets.to(device)\n",
    "\n",
    "        logits, probas = model(features)\n",
    "        _, predicted_labels = torch.max(probas, 1)\n",
    "        num_examples += targets.size(0)\n",
    "        correct_pred += (predicted_labels == targets).sum()\n",
    "    return correct_pred.float()/num_examples * 100\n",
    "\n",
    "\n",
    "def train_model(model, data_loader, optimizer, num_epochs,batch_size, device,metric_func, random_seed = 7):\n",
    "    # Manual seed for deterministic data loader\n",
    "    torch.manual_seed(random_seed)\n",
    "    \n",
    "    loss_list = []\n",
    "    train_acc_list, valid_acc_list = [], []\n",
    "    best_valid_acc = 0\n",
    "    \n",
    "    for epoch in range(num_epochs):\n",
    "        start = time.time()\n",
    "        # set training mode\n",
    "        model.train() \n",
    "        for batch_idx, (features, targets) in enumerate(data_loader[\"train\"]):\n",
    "            features = features.to(device)\n",
    "            targets = targets.to(device)\n",
    "\n",
    "\n",
    "            ## forward pass\n",
    "            logits, probas = model(features)\n",
    "            loss = F.cross_entropy(logits,targets)\n",
    "\n",
    "            # backward pass\n",
    "            # clear the gradients of all tensors being optimized\n",
    "            optimizer.zero_grad()\n",
    "            loss.backward()\n",
    "            optimizer.step()\n",
    "\n",
    "            ### Login\n",
    "            loss_list.append(loss.item())\n",
    "            \n",
    "            if batch_idx % 50 == 0:\n",
    "\n",
    "                print ('Epoch: {0:03d}/{1:03d} | Batch {2:03d}/{3:03d} | Loss: {4:.3f}'.format(\n",
    "                    epoch+1, num_epochs, batch_idx, \n",
    "                         len(train_dataset)//batch_size, loss))\n",
    "\n",
    "                with open(\"train_log\", \"a\") as f:\n",
    "                    f.write('Epoch: {0:03d}/{1:03d} | Batch {2:03d}/{3:03d} | Loss: {4:.3f} \\n'.format(\n",
    "                    epoch+1, num_epochs, batch_idx, \n",
    "                         len(train_dataset)//batch_size, loss))\n",
    "        \n",
    "        end = time.time()\n",
    "        with torch.set_grad_enabled(False):\n",
    "            train_acc = metric_func(model, data_loader[\"train\"], device)\n",
    "            valid_acc = metric_func(model, data_loader[\"test\"], device)\n",
    "            \n",
    "            print('Epoch: {0:03d}/{1:03d} train acc: {2:.3f} % | val acc: {3:.3f} % | time: {4:.3f} s'.format(\n",
    "                  epoch+1, num_epochs, train_acc, valid_acc, end-start))\n",
    "\n",
    "            with open(\"train_log\", \"a\") as f:\n",
    "                f.write('Epoch: {0:03d}/{1:03d} train acc: {2:.3f} % | val acc: {3:.3f} % | time: {4:.3f} s \\n'.format(\n",
    "                  epoch+1, num_epochs, train_acc, valid_acc, end-start))\n",
    "\n",
    "            \n",
    "            if not os.path.exists(\"../models/gj_model_checkpoint/\"):\n",
    "                os.mkdir(\"../models/gj_model_checkpoint/\")\n",
    "            \n",
    "            if best_valid_acc <= valid_acc:\n",
    "                best_valid_acc = valid_acc\n",
    "                torch.save({\n",
    "                    'epoch': epoch,\n",
    "                    'model_state_dict': model.state_dict(),\n",
    "                    'valid_acc': valid_acc,\n",
    "                    'optimizer_state_dict': optimizer.state_dict(),\n",
    "                }, \"../models/gj_model_checkpoint/best_model.pt\")\n",
    "            \n",
    "            \n",
    "            train_acc_list.append(train_acc)\n",
    "            valid_acc_list.append(valid_acc)\n",
    "        \n",
    "        scheduler.step(valid_acc)\n",
    "            \n",
    "    checkpoint = torch.load(\"../models/gj_model_checkpoint/best_model.pt\")\n",
    "    model.load_state_dict(checkpoint[\"model_state_dict\"])\n",
    "            \n",
    "    return model, loss_list, train_acc_list, valid_acc_list"
   ]
  },
  {
   "cell_type": "code",
   "execution_count": 21,
   "metadata": {
    "scrolled": true
   },
   "outputs": [
    {
     "name": "stdout",
     "output_type": "stream",
     "text": [
      "Epoch: 001/010 | Batch 000/438 | Loss: 5.524\n",
      "Epoch: 001/010 | Batch 050/438 | Loss: 5.248\n",
      "Epoch: 001/010 | Batch 100/438 | Loss: 3.854\n",
      "Epoch: 001/010 | Batch 150/438 | Loss: 2.732\n",
      "Epoch: 001/010 | Batch 200/438 | Loss: 2.084\n",
      "Epoch: 001/010 | Batch 250/438 | Loss: 1.374\n",
      "Epoch: 001/010 | Batch 300/438 | Loss: 0.976\n",
      "Epoch: 001/010 | Batch 350/438 | Loss: 0.850\n",
      "Epoch: 001/010 | Batch 400/438 | Loss: 0.463\n",
      "Epoch: 001/010 train acc: 99.573 % | val acc: 91.026 % | time: 38.629 s\n",
      "Epoch: 002/010 | Batch 000/438 | Loss: 0.248\n",
      "Epoch: 002/010 | Batch 050/438 | Loss: 0.224\n",
      "Epoch: 002/010 | Batch 100/438 | Loss: 0.129\n",
      "Epoch: 002/010 | Batch 150/438 | Loss: 0.198\n",
      "Epoch: 002/010 | Batch 200/438 | Loss: 0.086\n",
      "Epoch: 002/010 | Batch 250/438 | Loss: 0.078\n",
      "Epoch: 002/010 | Batch 300/438 | Loss: 0.126\n",
      "Epoch: 002/010 | Batch 350/438 | Loss: 0.052\n",
      "Epoch: 002/010 | Batch 400/438 | Loss: 0.060\n",
      "Epoch: 002/010 train acc: 100.000 % | val acc: 93.162 % | time: 39.200 s\n",
      "Epoch: 003/010 | Batch 000/438 | Loss: 0.043\n",
      "Epoch: 003/010 | Batch 050/438 | Loss: 0.057\n",
      "Epoch: 003/010 | Batch 100/438 | Loss: 0.033\n",
      "Epoch: 003/010 | Batch 150/438 | Loss: 0.035\n",
      "Epoch: 003/010 | Batch 200/438 | Loss: 0.037\n",
      "Epoch: 003/010 | Batch 250/438 | Loss: 0.030\n",
      "Epoch: 003/010 | Batch 300/438 | Loss: 0.025\n",
      "Epoch: 003/010 | Batch 350/438 | Loss: 0.018\n",
      "Epoch: 003/010 | Batch 400/438 | Loss: 0.016\n",
      "Epoch: 003/010 train acc: 99.972 % | val acc: 93.590 % | time: 39.733 s\n",
      "Epoch: 004/010 | Batch 000/438 | Loss: 0.017\n",
      "Epoch: 004/010 | Batch 050/438 | Loss: 0.013\n",
      "Epoch: 004/010 | Batch 100/438 | Loss: 0.017\n",
      "Epoch: 004/010 | Batch 150/438 | Loss: 0.022\n",
      "Epoch: 004/010 | Batch 200/438 | Loss: 0.018\n",
      "Epoch: 004/010 | Batch 250/438 | Loss: 0.055\n",
      "Epoch: 004/010 | Batch 300/438 | Loss: 0.016\n",
      "Epoch: 004/010 | Batch 350/438 | Loss: 0.012\n",
      "Epoch: 004/010 | Batch 400/438 | Loss: 0.008\n",
      "Epoch: 004/010 train acc: 100.000 % | val acc: 92.735 % | time: 39.888 s\n",
      "Epoch     4: reducing learning rate of group 0 to 2.0000e-05.\n",
      "Epoch: 005/010 | Batch 000/438 | Loss: 0.011\n",
      "Epoch: 005/010 | Batch 050/438 | Loss: 0.010\n",
      "Epoch: 005/010 | Batch 100/438 | Loss: 0.008\n",
      "Epoch: 005/010 | Batch 150/438 | Loss: 0.016\n",
      "Epoch: 005/010 | Batch 200/438 | Loss: 0.008\n",
      "Epoch: 005/010 | Batch 250/438 | Loss: 0.007\n",
      "Epoch: 005/010 | Batch 300/438 | Loss: 0.011\n",
      "Epoch: 005/010 | Batch 350/438 | Loss: 0.008\n",
      "Epoch: 005/010 | Batch 400/438 | Loss: 0.012\n",
      "Epoch: 005/010 train acc: 100.000 % | val acc: 92.735 % | time: 39.888 s\n",
      "Epoch: 006/010 | Batch 000/438 | Loss: 0.009\n",
      "Epoch: 006/010 | Batch 050/438 | Loss: 0.010\n",
      "Epoch: 006/010 | Batch 100/438 | Loss: 0.006\n",
      "Epoch: 006/010 | Batch 150/438 | Loss: 0.009\n",
      "Epoch: 006/010 | Batch 200/438 | Loss: 0.009\n",
      "Epoch: 006/010 | Batch 250/438 | Loss: 0.010\n",
      "Epoch: 006/010 | Batch 300/438 | Loss: 0.006\n",
      "Epoch: 006/010 | Batch 350/438 | Loss: 0.006\n",
      "Epoch: 006/010 | Batch 400/438 | Loss: 0.007\n",
      "Epoch: 006/010 train acc: 100.000 % | val acc: 93.590 % | time: 39.881 s\n",
      "Epoch     6: reducing learning rate of group 0 to 4.0000e-06.\n",
      "Epoch: 007/010 | Batch 000/438 | Loss: 0.006\n",
      "Epoch: 007/010 | Batch 050/438 | Loss: 0.011\n",
      "Epoch: 007/010 | Batch 100/438 | Loss: 0.007\n",
      "Epoch: 007/010 | Batch 150/438 | Loss: 0.006\n",
      "Epoch: 007/010 | Batch 200/438 | Loss: 0.006\n",
      "Epoch: 007/010 | Batch 250/438 | Loss: 0.007\n",
      "Epoch: 007/010 | Batch 300/438 | Loss: 0.007\n",
      "Epoch: 007/010 | Batch 350/438 | Loss: 0.011\n",
      "Epoch: 007/010 | Batch 400/438 | Loss: 0.009\n",
      "Epoch: 007/010 train acc: 100.000 % | val acc: 92.735 % | time: 39.883 s\n",
      "Epoch: 008/010 | Batch 000/438 | Loss: 0.008\n",
      "Epoch: 008/010 | Batch 050/438 | Loss: 0.006\n",
      "Epoch: 008/010 | Batch 100/438 | Loss: 0.006\n",
      "Epoch: 008/010 | Batch 150/438 | Loss: 0.006\n",
      "Epoch: 008/010 | Batch 200/438 | Loss: 0.006\n",
      "Epoch: 008/010 | Batch 250/438 | Loss: 0.007\n",
      "Epoch: 008/010 | Batch 300/438 | Loss: 0.008\n",
      "Epoch: 008/010 | Batch 350/438 | Loss: 0.006\n",
      "Epoch: 008/010 | Batch 400/438 | Loss: 0.005\n",
      "Epoch: 008/010 train acc: 100.000 % | val acc: 93.162 % | time: 39.811 s\n",
      "Epoch     8: reducing learning rate of group 0 to 8.0000e-07.\n",
      "Epoch: 009/010 | Batch 000/438 | Loss: 0.009\n",
      "Epoch: 009/010 | Batch 050/438 | Loss: 0.009\n",
      "Epoch: 009/010 | Batch 100/438 | Loss: 0.006\n",
      "Epoch: 009/010 | Batch 150/438 | Loss: 0.007\n",
      "Epoch: 009/010 | Batch 200/438 | Loss: 0.008\n",
      "Epoch: 009/010 | Batch 250/438 | Loss: 0.005\n",
      "Epoch: 009/010 | Batch 300/438 | Loss: 0.008\n",
      "Epoch: 009/010 | Batch 350/438 | Loss: 0.007\n",
      "Epoch: 009/010 | Batch 400/438 | Loss: 0.006\n",
      "Epoch: 009/010 train acc: 100.000 % | val acc: 92.735 % | time: 39.847 s\n",
      "Epoch: 010/010 | Batch 000/438 | Loss: 0.007\n",
      "Epoch: 010/010 | Batch 050/438 | Loss: 0.008\n",
      "Epoch: 010/010 | Batch 100/438 | Loss: 0.007\n",
      "Epoch: 010/010 | Batch 150/438 | Loss: 0.007\n",
      "Epoch: 010/010 | Batch 200/438 | Loss: 0.005\n",
      "Epoch: 010/010 | Batch 250/438 | Loss: 0.010\n",
      "Epoch: 010/010 | Batch 300/438 | Loss: 0.007\n",
      "Epoch: 010/010 | Batch 350/438 | Loss: 0.006\n",
      "Epoch: 010/010 | Batch 400/438 | Loss: 0.008\n",
      "Epoch: 010/010 train acc: 100.000 % | val acc: 92.735 % | time: 39.843 s\n",
      "Epoch    10: reducing learning rate of group 0 to 1.6000e-07.\n"
     ]
    }
   ],
   "source": [
    "model, loss_list, train_acc_list, valid_acc_list = train_model(model, \n",
    "            dataset_loader, \n",
    "            optimizer, \n",
    "            NUM_EPOCHS, \n",
    "            device = DEVICE, \n",
    "            batch_size = BATCH_SIZE,\n",
    "            metric_func = compute_accuracy)"
   ]
  },
  {
   "cell_type": "code",
   "execution_count": 25,
   "metadata": {},
   "outputs": [
    {
     "data": {
      "image/png": "[encoded data removed]",
      "text/plain": [
       "<Figure size 432x288 with 1 Axes>"
      ]
     },
     "metadata": {
      "needs_background": "light"
     },
     "output_type": "display_data"
    }
   ],
   "source": [
    "plt.plot(loss_list, label='Minibatch cost')\n",
    "plt.plot(np.convolve(loss_list, \n",
    "                     np.ones(30,)/30, mode='valid'), \n",
    "         label='Running average')\n",
    "\n",
    "plt.ylabel('Cross Entropy')\n",
    "plt.xlabel('Iteration')\n",
    "plt.legend()\n",
    "plt.show()"
   ]
  },
  {
   "cell_type": "code",
   "execution_count": 24,
   "metadata": {},
   "outputs": [
    {
     "data": {
      "image/png": "[encoded data removed]",
      "text/plain": [
       "<Figure size 432x288 with 1 Axes>"
      ]
     },
     "metadata": {
      "needs_background": "light"
     },
     "output_type": "display_data"
    }
   ],
   "source": [
    "plt.plot(np.arange(1, NUM_EPOCHS+1), train_acc_list, label='Training')\n",
    "plt.plot(np.arange(1, NUM_EPOCHS+1), valid_acc_list, label='Validation')\n",
    "\n",
    "plt.xlabel('Epoch')\n",
    "plt.ylabel('ROC')\n",
    "plt.legend()\n",
    "plt.show()"
   ]
  },
  {
   "cell_type": "code",
   "execution_count": 22,
   "metadata": {},
   "outputs": [],
   "source": [
    "model.eval()\n",
    "all_preds = []\n",
    "all_targets = []\n",
    "\n",
    "for i, (features,targets) in enumerate(test_dataloader):\n",
    "    features = features.to(DEVICE)\n",
    "    logits,probas = model(features)\n",
    "    _, predicted_labels = torch.max(probas, 1)\n",
    "    all_preds += predicted_labels.tolist()\n",
    "    all_targets += targets.tolist()"
   ]
  },
  {
   "cell_type": "code",
   "execution_count": 23,
   "metadata": {},
   "outputs": [
    {
     "data": {
      "text/plain": [
       "0.9358974358974359"
      ]
     },
     "execution_count": 23,
     "metadata": {},
     "output_type": "execute_result"
    }
   ],
   "source": [
    "np.mean(np.array(all_preds) == np.array(all_targets))"
   ]
  },
  {
   "cell_type": "code",
   "execution_count": null,
   "metadata": {},
   "outputs": [],
   "source": [
    "model.to(\"cpu\")"
   ]
  },
  {
   "cell_type": "code",
   "execution_count": 30,
   "metadata": {},
   "outputs": [
    {
     "data": {
      "text/plain": [
       "'行'"
      ]
     },
     "execution_count": 30,
     "metadata": {},
     "output_type": "execute_result"
    }
   ],
   "source": [
    "def image2text(model, chars, test_data_transform, image_path):\n",
    "    img = Image.open(image_path)\n",
    "    input = torch.unsqueeze(test_data_transform(img),0)    \n",
    "    logits,probas = model(input)\n",
    "    _, predicted_idx = torch.max(probas, 1)\n",
    "    return chars[predicted_idx]\n",
    "image2text(model,chars,test_data_transform,\"cuts/行.png\")"
   ]
  },
  {
   "cell_type": "code",
   "execution_count": 31,
   "metadata": {},
   "outputs": [
    {
     "data": {
      "text/plain": [
       "'象'"
      ]
     },
     "execution_count": 31,
     "metadata": {},
     "output_type": "execute_result"
    }
   ],
   "source": [
    "image2text(model,chars,test_data_transform,\"cuts/象.png\")"
   ]
  },
  {
   "cell_type": "code",
   "execution_count": 32,
   "metadata": {},
   "outputs": [
    {
     "data": {
      "text/plain": [
       "'领'"
      ]
     },
     "execution_count": 32,
     "metadata": {},
     "output_type": "execute_result"
    }
   ],
   "source": [
    "image2text(model,chars,test_data_transform,\"cuts/领.png\")"
   ]
  },
  {
   "cell_type": "code",
   "execution_count": 33,
   "metadata": {},
   "outputs": [
    {
     "data": {
      "text/plain": [
       "'螃'"
      ]
     },
     "execution_count": 33,
     "metadata": {},
     "output_type": "execute_result"
    }
   ],
   "source": [
    "image2text(model,chars,test_data_transform,\"cuts/螃.png\")"
   ]
  },
  {
   "cell_type": "code",
   "execution_count": 34,
   "metadata": {},
   "outputs": [
    {
     "data": {
      "text/plain": [
       "'蟹'"
      ]
     },
     "execution_count": 34,
     "metadata": {},
     "output_type": "execute_result"
    }
   ],
   "source": [
    "image2text(model,chars,test_data_transform,\"cuts/蟹.png\")"
   ]
  },
  {
   "cell_type": "code",
   "execution_count": null,
   "metadata": {},
   "outputs": [],
   "source": []
  }
 ],
 "metadata": {
  "kernelspec": {
   "display_name": "Python 3",
   "language": "python",
   "name": "python3"
  },
  "language_info": {
   "codemirror_mode": {
    "name": "ipython",
    "version": 3
   },
   "file_extension": ".py",
   "mimetype": "text/x-python",
   "name": "python",
   "nbconvert_exporter": "python",
   "pygments_lexer": "ipython3",
   "version": "3.6.10"
  }
 },
 "nbformat": 4,
 "nbformat_minor": 4
}
